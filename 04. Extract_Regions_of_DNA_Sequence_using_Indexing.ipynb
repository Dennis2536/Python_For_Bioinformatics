{
 "cells": [
  {
   "cell_type": "markdown",
   "id": "presidential-driving",
   "metadata": {},
   "source": [
    "# Strings- PART II"
   ]
  },
  {
   "cell_type": "markdown",
   "id": "incredible-reserve",
   "metadata": {},
   "source": [
    "## Extract regions of DNA sequence using indexing and slicing"
   ]
  },
  {
   "cell_type": "code",
   "execution_count": 2,
   "id": "charitable-drink",
   "metadata": {},
   "outputs": [],
   "source": [
    "DNA = 'AGCCCATTGACTG'"
   ]
  },
  {
   "cell_type": "code",
   "execution_count": 3,
   "id": "removed-bangkok",
   "metadata": {},
   "outputs": [
    {
     "data": {
      "text/plain": [
       "'C'"
      ]
     },
     "execution_count": 3,
     "metadata": {},
     "output_type": "execute_result"
    }
   ],
   "source": [
    "DNA[4]"
   ]
  },
  {
   "cell_type": "code",
   "execution_count": 4,
   "id": "a479fdbc",
   "metadata": {},
   "outputs": [
    {
     "data": {
      "text/plain": [
       "'C'"
      ]
     },
     "execution_count": 4,
     "metadata": {},
     "output_type": "execute_result"
    }
   ],
   "source": [
    "DNA[10]"
   ]
  },
  {
   "cell_type": "code",
   "execution_count": 6,
   "id": "39c6da41",
   "metadata": {},
   "outputs": [
    {
     "data": {
      "text/plain": [
       "13"
      ]
     },
     "execution_count": 6,
     "metadata": {},
     "output_type": "execute_result"
    }
   ],
   "source": [
    "len(DNA)"
   ]
  },
  {
   "cell_type": "code",
   "execution_count": 8,
   "id": "f05c578a",
   "metadata": {},
   "outputs": [
    {
     "data": {
      "text/plain": [
       "'G'"
      ]
     },
     "execution_count": 8,
     "metadata": {},
     "output_type": "execute_result"
    }
   ],
   "source": [
    "DNA[len(DNA)-1]"
   ]
  },
  {
   "cell_type": "code",
   "execution_count": 9,
   "id": "aa1d7139",
   "metadata": {},
   "outputs": [
    {
     "data": {
      "text/plain": [
       "'G'"
      ]
     },
     "execution_count": 9,
     "metadata": {},
     "output_type": "execute_result"
    }
   ],
   "source": [
    "#Negative Indexing\n",
    "DNA[-1]"
   ]
  },
  {
   "cell_type": "code",
   "execution_count": 10,
   "id": "854b028e",
   "metadata": {},
   "outputs": [
    {
     "data": {
      "text/plain": [
       "'T'"
      ]
     },
     "execution_count": 10,
     "metadata": {},
     "output_type": "execute_result"
    }
   ],
   "source": [
    "DNA[-7]"
   ]
  },
  {
   "cell_type": "code",
   "execution_count": 11,
   "id": "b0e0562b",
   "metadata": {},
   "outputs": [
    {
     "data": {
      "text/plain": [
       "'AGCCCATTGACTG'"
      ]
     },
     "execution_count": 11,
     "metadata": {},
     "output_type": "execute_result"
    }
   ],
   "source": [
    "#Accessing Subsequences with Slicing\n",
    "DNA"
   ]
  },
  {
   "cell_type": "code",
   "execution_count": 12,
   "id": "b66454ad",
   "metadata": {},
   "outputs": [
    {
     "data": {
      "text/plain": [
       "'CATT'"
      ]
     },
     "execution_count": 12,
     "metadata": {},
     "output_type": "execute_result"
    }
   ],
   "source": [
    "DNA[4:8]"
   ]
  },
  {
   "cell_type": "code",
   "execution_count": 13,
   "id": "2927bb19",
   "metadata": {},
   "outputs": [
    {
     "data": {
      "text/plain": [
       "'AGCC'"
      ]
     },
     "execution_count": 13,
     "metadata": {},
     "output_type": "execute_result"
    }
   ],
   "source": [
    "DNA[0:4]"
   ]
  },
  {
   "cell_type": "code",
   "execution_count": 14,
   "id": "2f138587",
   "metadata": {},
   "outputs": [
    {
     "data": {
      "text/plain": [
       "'AGC'"
      ]
     },
     "execution_count": 14,
     "metadata": {},
     "output_type": "execute_result"
    }
   ],
   "source": [
    "DNA[-13:-10]"
   ]
  },
  {
   "cell_type": "code",
   "execution_count": 15,
   "id": "370ca292",
   "metadata": {},
   "outputs": [
    {
     "data": {
      "text/plain": [
       "'AGC'"
      ]
     },
     "execution_count": 15,
     "metadata": {},
     "output_type": "execute_result"
    }
   ],
   "source": [
    "DNA[0:3]\n",
    "#This is a codon"
   ]
  },
  {
   "cell_type": "code",
   "execution_count": 16,
   "id": "73bc36e7",
   "metadata": {},
   "outputs": [
    {
     "data": {
      "text/plain": [
       "'ACCT'"
      ]
     },
     "execution_count": 16,
     "metadata": {},
     "output_type": "execute_result"
    }
   ],
   "source": [
    "#Adding a step to indexing\n",
    "DNA[0:8:2]"
   ]
  },
  {
   "cell_type": "code",
   "execution_count": 17,
   "id": "f3fa63fc",
   "metadata": {},
   "outputs": [
    {
     "data": {
      "text/plain": [
       "'ACT'"
      ]
     },
     "execution_count": 17,
     "metadata": {},
     "output_type": "execute_result"
    }
   ],
   "source": [
    "DNA[0:9:3]"
   ]
  },
  {
   "cell_type": "code",
   "execution_count": 18,
   "id": "0efdd68d",
   "metadata": {},
   "outputs": [
    {
     "data": {
      "text/plain": [
       "'GCAT'"
      ]
     },
     "execution_count": 18,
     "metadata": {},
     "output_type": "execute_result"
    }
   ],
   "source": [
    "DNA[-12:-4:2]"
   ]
  },
  {
   "cell_type": "code",
   "execution_count": 19,
   "id": "5547f0e9",
   "metadata": {},
   "outputs": [
    {
     "data": {
      "text/plain": [
       "'AGCCCATTGACTG'"
      ]
     },
     "execution_count": 19,
     "metadata": {},
     "output_type": "execute_result"
    }
   ],
   "source": [
    "#Short Hand Indexing\n",
    "DNA\n"
   ]
  },
  {
   "cell_type": "code",
   "execution_count": 20,
   "id": "3fd7a04b",
   "metadata": {},
   "outputs": [
    {
     "data": {
      "text/plain": [
       "'AGCCCATTGA'"
      ]
     },
     "execution_count": 20,
     "metadata": {},
     "output_type": "execute_result"
    }
   ],
   "source": [
    "DNA[:10]"
   ]
  },
  {
   "cell_type": "code",
   "execution_count": 21,
   "id": "8ed9ed40",
   "metadata": {},
   "outputs": [
    {
     "data": {
      "text/plain": [
       "'CCCATTGACTG'"
      ]
     },
     "execution_count": 21,
     "metadata": {},
     "output_type": "execute_result"
    }
   ],
   "source": [
    "DNA[2:]"
   ]
  },
  {
   "cell_type": "code",
   "execution_count": 22,
   "id": "18536c09",
   "metadata": {},
   "outputs": [
    {
     "data": {
      "text/plain": [
       "'AGCCCATTGACTG'"
      ]
     },
     "execution_count": 22,
     "metadata": {},
     "output_type": "execute_result"
    }
   ],
   "source": [
    "DNA[:]"
   ]
  },
  {
   "cell_type": "code",
   "execution_count": null,
   "id": "d1f5433a",
   "metadata": {},
   "outputs": [],
   "source": []
  }
 ],
 "metadata": {
  "kernelspec": {
   "display_name": "Python 3 (ipykernel)",
   "language": "python",
   "name": "python3"
  },
  "language_info": {
   "codemirror_mode": {
    "name": "ipython",
    "version": 3
   },
   "file_extension": ".py",
   "mimetype": "text/x-python",
   "name": "python",
   "nbconvert_exporter": "python",
   "pygments_lexer": "ipython3",
   "version": "3.9.7"
  }
 },
 "nbformat": 4,
 "nbformat_minor": 5
}

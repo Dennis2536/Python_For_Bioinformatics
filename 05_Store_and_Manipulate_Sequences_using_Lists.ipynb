{
 "cells": [
  {
   "cell_type": "markdown",
   "id": "presidential-driving",
   "metadata": {},
   "source": [
    "# LISTS"
   ]
  },
  {
   "cell_type": "raw",
   "id": "controlled-gallery",
   "metadata": {},
   "source": [
    "\n",
    "-Lists are linear collection of items\n",
    "-Lists are created by putting items inside a square bracket []\n",
    "eg. ['A','G','T','C']  or [1,2,3]\n",
    "-Individual items are separated by commas\n",
    "-Lists can contain objects of different datatypes including lists.\n",
    "eg. [1, 'A', 3.2]   or [[1,2],['A','T']]\n",
    "-Items in a list accessed using indexing.\n",
    "-A list is mutable, meaning its content can be changed.\n",
    "-New items are added to the tail (end of the list)\n",
    "-Iterations can be performed on lists\n",
    "-If all items in a list are strings, then the entire list can be converted \n",
    " to a single string object"
   ]
  },
  {
   "cell_type": "code",
   "execution_count": 3,
   "id": "undefined-boston",
   "metadata": {},
   "outputs": [],
   "source": [
    "#create a list\n",
    "mylist=['A','T','C','G']"
   ]
  },
  {
   "cell_type": "code",
   "execution_count": 4,
   "id": "charming-superintendent",
   "metadata": {},
   "outputs": [],
   "source": [
    "#create an empty list\n",
    "emptylist=[]"
   ]
  },
  {
   "cell_type": "code",
   "execution_count": 5,
   "id": "charming-donor",
   "metadata": {},
   "outputs": [],
   "source": [
    "subsequences=[\"TTA\",\"GCTAAG\",'GATTA']"
   ]
  },
  {
   "cell_type": "code",
   "execution_count": 6,
   "id": "refined-amazon",
   "metadata": {},
   "outputs": [
    {
     "name": "stdout",
     "output_type": "stream",
     "text": [
      "['A', 'T', 'C', 'G', 'A']\n"
     ]
    }
   ],
   "source": [
    "string=\"ATCGA\"\n",
    "\n",
    "#convert string to list\n",
    "stringtolist=list(string)\n",
    "print(stringtolist)"
   ]
  },
  {
   "cell_type": "code",
   "execution_count": 7,
   "id": "innovative-cover",
   "metadata": {},
   "outputs": [
    {
     "name": "stdout",
     "output_type": "stream",
     "text": [
      "4\n"
     ]
    }
   ],
   "source": [
    "#number of elements in a list\n",
    "number_of_items=len(mylist)\n",
    "print(number_of_items)"
   ]
  },
  {
   "cell_type": "code",
   "execution_count": 8,
   "id": "universal-citizenship",
   "metadata": {},
   "outputs": [
    {
     "name": "stdout",
     "output_type": "stream",
     "text": [
      "['A', 'T', 'C', 'G', 'GT']\n"
     ]
    }
   ],
   "source": [
    "#add a new element to a list\n",
    "mylist.append(\"GT\")\n",
    "print(mylist)"
   ]
  },
  {
   "cell_type": "code",
   "execution_count": 7,
   "id": "alleged-morning",
   "metadata": {},
   "outputs": [
    {
     "data": {
      "text/plain": [
       "'A'"
      ]
     },
     "execution_count": 7,
     "metadata": {},
     "output_type": "execute_result"
    }
   ],
   "source": [
    "#indexing and slicing\n",
    "#firs element of a list\n",
    "mylist[0]"
   ]
  },
  {
   "cell_type": "code",
   "execution_count": 9,
   "id": "innocent-calendar",
   "metadata": {},
   "outputs": [
    {
     "data": {
      "text/plain": [
       "['A', 'T', 'C']"
      ]
     },
     "execution_count": 9,
     "metadata": {},
     "output_type": "execute_result"
    }
   ],
   "source": [
    "mylist[0:3]"
   ]
  },
  {
   "cell_type": "code",
   "execution_count": 10,
   "id": "linear-karen",
   "metadata": {},
   "outputs": [
    {
     "name": "stdout",
     "output_type": "stream",
     "text": [
      "['A', 'C', 'G', 'GT', 'T']\n"
     ]
    }
   ],
   "source": [
    "#sorting a list\n",
    "mylist.sort()\n",
    "print(mylist)"
   ]
  },
  {
   "cell_type": "code",
   "execution_count": 11,
   "id": "sought-lewis",
   "metadata": {},
   "outputs": [
    {
     "name": "stdout",
     "output_type": "stream",
     "text": [
      "['T', 'GT', 'G', 'C', 'A']\n"
     ]
    }
   ],
   "source": [
    "#reverse\n",
    "mylist.reverse()\n",
    "print(mylist)"
   ]
  },
  {
   "cell_type": "code",
   "execution_count": 11,
   "id": "steady-argentina",
   "metadata": {},
   "outputs": [
    {
     "name": "stdout",
     "output_type": "stream",
     "text": [
      "['TTA', 'T', 'GT', 'G', 'C', 'A']\n"
     ]
    }
   ],
   "source": [
    "#insert \"TTA\" into first position\n",
    "mylist.insert(0,\"TTA\")\n",
    "print(mylist)"
   ]
  },
  {
   "cell_type": "code",
   "execution_count": 12,
   "id": "seeing-humanitarian",
   "metadata": {},
   "outputs": [
    {
     "name": "stdout",
     "output_type": "stream",
     "text": [
      "['GT', 'G', 'C', 'A']\n"
     ]
    }
   ],
   "source": [
    "#delete items from a list\n",
    "#approach 1 : by indexing\n",
    "del mylist[0]\n",
    "print(mylist)"
   ]
  },
  {
   "cell_type": "code",
   "execution_count": 13,
   "id": "compact-belarus",
   "metadata": {},
   "outputs": [
    {
     "name": "stdout",
     "output_type": "stream",
     "text": [
      "['T', 'G', 'C', 'A']\n"
     ]
    }
   ],
   "source": [
    "#delete item in 2nd position\n",
    "del mylist[1]\n",
    "print(mylist)"
   ]
  },
  {
   "cell_type": "code",
   "execution_count": 15,
   "id": "photographic-mills",
   "metadata": {},
   "outputs": [
    {
     "ename": "ValueError",
     "evalue": "list.remove(x): x not in list",
     "output_type": "error",
     "traceback": [
      "\u001b[1;31m---------------------------------------------------------------------------\u001b[0m",
      "\u001b[1;31mValueError\u001b[0m                                Traceback (most recent call last)",
      "\u001b[1;32m~\\AppData\\Local\\Temp/ipykernel_14328/3760071859.py\u001b[0m in \u001b[0;36m<module>\u001b[1;34m\u001b[0m\n\u001b[0;32m      1\u001b[0m \u001b[1;31m#delete by item value\u001b[0m\u001b[1;33m\u001b[0m\u001b[1;33m\u001b[0m\u001b[0m\n\u001b[0;32m      2\u001b[0m \u001b[1;31m#delete GT\u001b[0m\u001b[1;33m\u001b[0m\u001b[1;33m\u001b[0m\u001b[0m\n\u001b[1;32m----> 3\u001b[1;33m \u001b[0mmylist\u001b[0m\u001b[1;33m.\u001b[0m\u001b[0mremove\u001b[0m\u001b[1;33m(\u001b[0m\u001b[1;34m\"GT\"\u001b[0m\u001b[1;33m)\u001b[0m\u001b[1;33m\u001b[0m\u001b[1;33m\u001b[0m\u001b[0m\n\u001b[0m\u001b[0;32m      4\u001b[0m \u001b[0mprint\u001b[0m\u001b[1;33m(\u001b[0m\u001b[0mmylist\u001b[0m\u001b[1;33m)\u001b[0m\u001b[1;33m\u001b[0m\u001b[1;33m\u001b[0m\u001b[0m\n",
      "\u001b[1;31mValueError\u001b[0m: list.remove(x): x not in list"
     ]
    }
   ],
   "source": [
    "#delete by item value\n",
    "#delete GT\n",
    "mylist.remove(\"GT\")\n",
    "print(mylist)"
   ]
  },
  {
   "cell_type": "code",
   "execution_count": 16,
   "id": "completed-stupid",
   "metadata": {},
   "outputs": [
    {
     "name": "stdout",
     "output_type": "stream",
     "text": [
      "['GGT', 'G', 'C', 'A']\n"
     ]
    }
   ],
   "source": [
    "#change TTA to GGT\n",
    "mylist[0]=\"GGT\"\n",
    "print(mylist)"
   ]
  },
  {
   "cell_type": "code",
   "execution_count": 17,
   "id": "enormous-singing",
   "metadata": {},
   "outputs": [
    {
     "name": "stdout",
     "output_type": "stream",
     "text": [
      "GGTGCA\n"
     ]
    }
   ],
   "source": [
    "#convert list to string\n",
    "list_to_string=\"\".join(mylist)\n",
    "print(list_to_string)"
   ]
  },
  {
   "cell_type": "code",
   "execution_count": null,
   "id": "dce023b7",
   "metadata": {},
   "outputs": [],
   "source": []
  }
 ],
 "metadata": {
  "kernelspec": {
   "display_name": "Python 3 (ipykernel)",
   "language": "python",
   "name": "python3"
  },
  "language_info": {
   "codemirror_mode": {
    "name": "ipython",
    "version": 3
   },
   "file_extension": ".py",
   "mimetype": "text/x-python",
   "name": "python",
   "nbconvert_exporter": "python",
   "pygments_lexer": "ipython3",
   "version": "3.9.7"
  }
 },
 "nbformat": 4,
 "nbformat_minor": 5
}

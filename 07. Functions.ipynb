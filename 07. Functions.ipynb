{
 "cells": [
  {
   "cell_type": "markdown",
   "id": "wanted-kenya",
   "metadata": {},
   "source": [
    "# Repeat programming tasks using Functions"
   ]
  },
  {
   "cell_type": "markdown",
   "id": "polished-decade",
   "metadata": {},
   "source": [
    "## What are functions ?\n",
    "- Enables a set of instructions or operations to be repeated multiple times\n",
    "- Functions enable codes to be re-used many times without having to copy them.\n",
    "- If there is a need to make changes in a code, it only needs to be done at one place.\n",
    "- Functions enable codes to be re-used in multiple programs.\n",
    "- Functions ena ble us to split larger problems into smaller and more manageable ones. \n",
    "- Functions enable us to better organize and manage our codes."
   ]
  },
  {
   "cell_type": "code",
   "execution_count": 1,
   "id": "dying-porter",
   "metadata": {},
   "outputs": [
    {
     "name": "stdout",
     "output_type": "stream",
     "text": [
      "percentage gc is: 46.15384615384615\n",
      "percentage gc rounded: 46.15\n"
     ]
    }
   ],
   "source": [
    "#Calculating percentage GC of a sequence\n",
    "\n",
    "dna=\"AGTTAGCTAGGAG\"\n",
    "gc=dna.count('G')+dna.count('C')\n",
    "length_of_dna=len(dna)\n",
    "gc_percentage=gc/length_of_dna * 100\n",
    "print('percentage gc is:',gc_percentage)\n",
    "\n",
    "gc_rounded=round(gc_percentage,2)\n",
    "print('percentage gc rounded:',gc_rounded)\n"
   ]
  },
  {
   "cell_type": "code",
   "execution_count": null,
   "id": "distant-kidney",
   "metadata": {},
   "outputs": [],
   "source": []
  },
  {
   "cell_type": "markdown",
   "id": "freelance-malaysia",
   "metadata": {},
   "source": [
    "### How to create a function ###"
   ]
  },
  {
   "cell_type": "markdown",
   "id": "sufficient-savannah",
   "metadata": {},
   "source": [
    "- First line\n",
    "    - Declare the function by using the keyword **def**. This is followed by the **function name** and then a parenthesis\n",
    "    - Parameters maybe added to the function:If adding parameters they should be within the parentheses of the function. \n",
    "    - End the line with a colon.\n",
    "- Subsequent lines will contain statements that the functions should execute.\n",
    "- When expecting the function to generate an output, a return is used to end the function\n"
   ]
  },
  {
   "cell_type": "code",
   "execution_count": 4,
   "id": "critical-radio",
   "metadata": {},
   "outputs": [],
   "source": [
    "def percentage_gc():\n",
    "    dna=\"AGTTAGCTAGGAG\"\n",
    "    gc=dna.count('G')+dna.count('C')\n",
    "    length_of_dna=len(dna)\n",
    "    gc_percentage=gc/length_of_dna * 100\n",
    "\n",
    "    gc_rounded=round(gc_percentage,2)\n",
    "    print('percentage gc rounded:',gc_rounded)\n"
   ]
  },
  {
   "cell_type": "code",
   "execution_count": 5,
   "id": "nasty-yeast",
   "metadata": {},
   "outputs": [
    {
     "name": "stdout",
     "output_type": "stream",
     "text": [
      "percentage gc rounded: 46.15\n"
     ]
    }
   ],
   "source": [
    "percentage_gc()"
   ]
  },
  {
   "cell_type": "code",
   "execution_count": null,
   "id": "obvious-cuisine",
   "metadata": {},
   "outputs": [],
   "source": []
  },
  {
   "cell_type": "code",
   "execution_count": null,
   "id": "regulation-newspaper",
   "metadata": {},
   "outputs": [],
   "source": []
  },
  {
   "cell_type": "markdown",
   "id": "dbec06df",
   "metadata": {},
   "source": [
    "#### A function with a return keyword"
   ]
  },
  {
   "cell_type": "code",
   "execution_count": 6,
   "id": "967e916b",
   "metadata": {},
   "outputs": [],
   "source": [
    "def percentage_gc():\n",
    "    dna=\"AGTTAGCTAGGAG\"\n",
    "    gc=dna.count('G')+dna.count('C')\n",
    "    length_of_dna=len(dna)\n",
    "    gc_percentage=gc/length_of_dna * 100\n",
    "\n",
    "    gc_rounded=round(gc_percentage,2)\n",
    "    \n",
    "    return gc_rounded\n"
   ]
  },
  {
   "cell_type": "code",
   "execution_count": 7,
   "id": "equivalent-worthy",
   "metadata": {},
   "outputs": [
    {
     "name": "stdout",
     "output_type": "stream",
     "text": [
      "46.15\n"
     ]
    }
   ],
   "source": [
    "gc_value = percentage_gc()\n",
    "print(gc_value)\n"
   ]
  },
  {
   "cell_type": "markdown",
   "id": "1f727832",
   "metadata": {},
   "source": [
    "#### A function with a parameter"
   ]
  },
  {
   "cell_type": "code",
   "execution_count": 10,
   "id": "70171211",
   "metadata": {},
   "outputs": [],
   "source": [
    "def percentage_gc(seq):\n",
    "    dna = seq\n",
    "    gc=dna.count('G')+dna.count('C')\n",
    "    length_of_dna=len(dna)\n",
    "    gc_percentage=gc/length_of_dna * 100\n",
    "\n",
    "    gc_rounded=round(gc_percentage,2)\n",
    "    \n",
    "    return gc_rounded"
   ]
  },
  {
   "cell_type": "code",
   "execution_count": 11,
   "id": "127aa2d5",
   "metadata": {},
   "outputs": [],
   "source": [
    "seq1 = 'AGCCTTCAG'\n",
    "seq2 = 'AAATTCGA'"
   ]
  },
  {
   "cell_type": "code",
   "execution_count": 12,
   "id": "representative-honey",
   "metadata": {},
   "outputs": [
    {
     "name": "stdout",
     "output_type": "stream",
     "text": [
      "55.56\n"
     ]
    }
   ],
   "source": [
    "gc1 = percentage_gc(seq1)\n",
    "print(gc1)\n"
   ]
  },
  {
   "cell_type": "code",
   "execution_count": 13,
   "id": "broken-flood",
   "metadata": {},
   "outputs": [],
   "source": [
    "gc2 = percentage_gc(seq2)"
   ]
  },
  {
   "cell_type": "code",
   "execution_count": 14,
   "id": "digital-montgomery",
   "metadata": {},
   "outputs": [
    {
     "name": "stdout",
     "output_type": "stream",
     "text": [
      "25.0\n"
     ]
    }
   ],
   "source": [
    "print(gc2)"
   ]
  },
  {
   "cell_type": "code",
   "execution_count": null,
   "id": "0882246b",
   "metadata": {},
   "outputs": [],
   "source": []
  }
 ],
 "metadata": {
  "kernelspec": {
   "display_name": "Python 3 (ipykernel)",
   "language": "python",
   "name": "python3"
  },
  "language_info": {
   "codemirror_mode": {
    "name": "ipython",
    "version": 3
   },
   "file_extension": ".py",
   "mimetype": "text/x-python",
   "name": "python",
   "nbconvert_exporter": "python",
   "pygments_lexer": "ipython3",
   "version": "3.9.7"
  }
 },
 "nbformat": 4,
 "nbformat_minor": 5
}

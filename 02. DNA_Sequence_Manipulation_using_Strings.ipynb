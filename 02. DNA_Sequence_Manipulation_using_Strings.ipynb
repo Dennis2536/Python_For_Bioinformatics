{
 "cells": [
  {
   "cell_type": "markdown",
   "id": "bigger-inflation",
   "metadata": {},
   "source": [
    "# Strings- PART I"
   ]
  },
  {
   "cell_type": "markdown",
   "id": "uniform-paper",
   "metadata": {},
   "source": [
    "* Create a string \n",
    "* Create a dna sequence\n",
    "* Convert dna sequence/string to lower or upper case]\n",
    "* Finds the length of sequence/string object\n",
    "* Check for the presence or absence of characters/nucleotides in a string/sequence\n",
    "* Count the number of nucleotides in a sequence\n",
    "* Combine strings/sequences\n",
    "* Exercise"
   ]
  },
  {
   "cell_type": "markdown",
   "id": "matched-liabilities",
   "metadata": {},
   "source": [
    "### Create a strings/dna sequences"
   ]
  },
  {
   "cell_type": "code",
   "execution_count": 1,
   "id": "chubby-borough",
   "metadata": {},
   "outputs": [
    {
     "name": "stdout",
     "output_type": "stream",
     "text": [
      "B-h computing\n"
     ]
    }
   ],
   "source": [
    "my_name = 'B-h computing'\n",
    "\n",
    "print(my_name)"
   ]
  },
  {
   "cell_type": "code",
   "execution_count": 3,
   "id": "listed-turner",
   "metadata": {},
   "outputs": [
    {
     "data": {
      "text/plain": [
       "str"
      ]
     },
     "execution_count": 3,
     "metadata": {},
     "output_type": "execute_result"
    }
   ],
   "source": [
    "type(my_name)"
   ]
  },
  {
   "cell_type": "code",
   "execution_count": null,
   "id": "49edf26d",
   "metadata": {},
   "outputs": [],
   "source": []
  },
  {
   "cell_type": "code",
   "execution_count": 4,
   "id": "phantom-colonial",
   "metadata": {},
   "outputs": [
    {
     "name": "stdout",
     "output_type": "stream",
     "text": [
      "AGCTCCGAG\n"
     ]
    }
   ],
   "source": [
    "#Creating a dna sequence\n",
    "dna=\"AGCTCCGAG\"\n",
    "print(dna)"
   ]
  },
  {
   "cell_type": "code",
   "execution_count": 5,
   "id": "corporate-policy",
   "metadata": {},
   "outputs": [
    {
     "name": "stdout",
     "output_type": "stream",
     "text": [
      "agtccta\n"
     ]
    }
   ],
   "source": [
    "dna2=\"agtccta\"\n",
    "print(dna2)"
   ]
  },
  {
   "cell_type": "code",
   "execution_count": 6,
   "id": "boolean-prince",
   "metadata": {
    "scrolled": true
   },
   "outputs": [
    {
     "name": "stdout",
     "output_type": "stream",
     "text": [
      "python programming language\n"
     ]
    }
   ],
   "source": [
    "mylanguage=\"python programming language\"\n",
    "print(mylanguage)"
   ]
  },
  {
   "cell_type": "code",
   "execution_count": 7,
   "id": "educational-postage",
   "metadata": {},
   "outputs": [
    {
     "name": "stdout",
     "output_type": "stream",
     "text": [
      "hello world\n"
     ]
    }
   ],
   "source": [
    "print(\"hello world\")"
   ]
  },
  {
   "cell_type": "markdown",
   "id": "biblical-title",
   "metadata": {},
   "source": [
    "### Convert dna sequence to lower or upper case"
   ]
  },
  {
   "cell_type": "code",
   "execution_count": 8,
   "id": "chinese-multimedia",
   "metadata": {},
   "outputs": [
    {
     "name": "stdout",
     "output_type": "stream",
     "text": [
      "agtccta\n"
     ]
    }
   ],
   "source": [
    "print(dna2)"
   ]
  },
  {
   "cell_type": "code",
   "execution_count": 9,
   "id": "desirable-columbia",
   "metadata": {},
   "outputs": [
    {
     "data": {
      "text/plain": [
       "'AGTCCTA'"
      ]
     },
     "execution_count": 9,
     "metadata": {},
     "output_type": "execute_result"
    }
   ],
   "source": [
    "dna2.upper()"
   ]
  },
  {
   "cell_type": "code",
   "execution_count": 10,
   "id": "satellite-wayne",
   "metadata": {},
   "outputs": [
    {
     "name": "stdout",
     "output_type": "stream",
     "text": [
      "AGCTCCGAG\n"
     ]
    }
   ],
   "source": [
    "print(dna)"
   ]
  },
  {
   "cell_type": "code",
   "execution_count": 11,
   "id": "cardiovascular-worthy",
   "metadata": {},
   "outputs": [
    {
     "data": {
      "text/plain": [
       "'agctccgag'"
      ]
     },
     "execution_count": 11,
     "metadata": {},
     "output_type": "execute_result"
    }
   ],
   "source": [
    "dna.lower()"
   ]
  },
  {
   "cell_type": "code",
   "execution_count": 12,
   "id": "happy-boards",
   "metadata": {},
   "outputs": [
    {
     "data": {
      "text/plain": [
       "'B-h computing'"
      ]
     },
     "execution_count": 12,
     "metadata": {},
     "output_type": "execute_result"
    }
   ],
   "source": [
    "my_name"
   ]
  },
  {
   "cell_type": "code",
   "execution_count": 13,
   "id": "higher-tobago",
   "metadata": {},
   "outputs": [
    {
     "data": {
      "text/plain": [
       "'B-H COMPUTING'"
      ]
     },
     "execution_count": 13,
     "metadata": {},
     "output_type": "execute_result"
    }
   ],
   "source": [
    "my_name.upper()"
   ]
  },
  {
   "cell_type": "markdown",
   "id": "ef2404f7",
   "metadata": {},
   "source": [
    "### Find the length of sequence"
   ]
  },
  {
   "cell_type": "code",
   "execution_count": 17,
   "id": "medieval-monkey",
   "metadata": {},
   "outputs": [],
   "source": [
    "dna1=\"AGTCCTAGAAGAGATCCAA\""
   ]
  },
  {
   "cell_type": "code",
   "execution_count": 18,
   "id": "gothic-tenant",
   "metadata": {},
   "outputs": [
    {
     "data": {
      "text/plain": [
       "19"
      ]
     },
     "execution_count": 18,
     "metadata": {},
     "output_type": "execute_result"
    }
   ],
   "source": [
    "len(dna1)"
   ]
  },
  {
   "cell_type": "code",
   "execution_count": 19,
   "id": "french-fraction",
   "metadata": {
    "scrolled": true
   },
   "outputs": [
    {
     "name": "stdout",
     "output_type": "stream",
     "text": [
      "GAGTTCATCCAGATTCGTCATGCCATGGAAAGATCTTCCCGATCTGTACAGTGTGGACGGGACGAGATGCTCAACATGTTTCGTGCACTTGTCTTTATATGGCGTATGTAAATTAGCGTCTACAGCATTGGAATCTATGCGATGGGATCAGATCACAGGCGCCCCGTCAGTCTACATCGTATTACATGTCACGAAACATATGACGTTTTTACCGTAGACATCGAAGGCTCCAGATACGTGCCGTGTGATTGTGCGGGGATACATTTAGAAGTACAGTCGTACTATAAATCAGCCGAATAAAATATTATGTTGATGTCGCGTGACCAAAATAGCTTTAGGGGATCCGTTTCTTCCTACGTTCCGTAATAACAAGACCAGCCGGGATACGTGGTGTGCACGTGATTTAAGGCGCTTCCAGTAGGCCCGAGGTTGTTGCTAGGGTGCGGCACAATCCGCTACT\n"
     ]
    }
   ],
   "source": [
    "dna=\"GAGTTCATCCAGATTCGTCATGCCATGGAAAGATCTTCCCGATCTGTACAGTGTGGACGGGACGAGATGCTCAACATGTTTCGTGCACTTGTCTTTATATGGCGTATGTAAATTAGCGTCTACAGCATTGGAATCTATGCGATGGGATCAGATCACAGGCGCCCCGTCAGTCTACATCGTATTACATGTCACGAAACATATGACGTTTTTACCGTAGACATCGAAGGCTCCAGATACGTGCCGTGTGATTGTGCGGGGATACATTTAGAAGTACAGTCGTACTATAAATCAGCCGAATAAAATATTATGTTGATGTCGCGTGACCAAAATAGCTTTAGGGGATCCGTTTCTTCCTACGTTCCGTAATAACAAGACCAGCCGGGATACGTGGTGTGCACGTGATTTAAGGCGCTTCCAGTAGGCCCGAGGTTGTTGCTAGGGTGCGGCACAATCCGCTACT\"\n",
    "print(dna)"
   ]
  },
  {
   "cell_type": "code",
   "execution_count": 20,
   "id": "expanded-payroll",
   "metadata": {},
   "outputs": [
    {
     "data": {
      "text/plain": [
       "460"
      ]
     },
     "execution_count": 20,
     "metadata": {},
     "output_type": "execute_result"
    }
   ],
   "source": [
    "len(dna)"
   ]
  },
  {
   "cell_type": "code",
   "execution_count": 21,
   "id": "spoken-ghost",
   "metadata": {
    "scrolled": true
   },
   "outputs": [
    {
     "data": {
      "text/plain": [
       "13"
      ]
     },
     "execution_count": 21,
     "metadata": {},
     "output_type": "execute_result"
    }
   ],
   "source": [
    "len(my_name)"
   ]
  },
  {
   "cell_type": "code",
   "execution_count": 22,
   "id": "eastern-signal",
   "metadata": {},
   "outputs": [
    {
     "data": {
      "text/plain": [
       "'B-h computing'"
      ]
     },
     "execution_count": 22,
     "metadata": {},
     "output_type": "execute_result"
    }
   ],
   "source": [
    "my_name"
   ]
  },
  {
   "cell_type": "markdown",
   "id": "jewish-chrome",
   "metadata": {},
   "source": [
    "### Check for the presence or absence of characters / nucleotides"
   ]
  },
  {
   "cell_type": "code",
   "execution_count": 23,
   "id": "atlantic-howard",
   "metadata": {},
   "outputs": [],
   "source": [
    "dna=\"ATCGGA\""
   ]
  },
  {
   "cell_type": "code",
   "execution_count": 24,
   "id": "wound-consciousness",
   "metadata": {},
   "outputs": [
    {
     "data": {
      "text/plain": [
       "True"
      ]
     },
     "execution_count": 24,
     "metadata": {},
     "output_type": "execute_result"
    }
   ],
   "source": [
    "'A' in dna"
   ]
  },
  {
   "cell_type": "code",
   "execution_count": 25,
   "id": "talented-sperm",
   "metadata": {},
   "outputs": [
    {
     "data": {
      "text/plain": [
       "False"
      ]
     },
     "execution_count": 25,
     "metadata": {},
     "output_type": "execute_result"
    }
   ],
   "source": [
    "'B' in dna"
   ]
  },
  {
   "cell_type": "code",
   "execution_count": 26,
   "id": "parallel-graph",
   "metadata": {},
   "outputs": [
    {
     "data": {
      "text/plain": [
       "False"
      ]
     },
     "execution_count": 26,
     "metadata": {},
     "output_type": "execute_result"
    }
   ],
   "source": [
    "'a' in dna"
   ]
  },
  {
   "cell_type": "code",
   "execution_count": 27,
   "id": "isolated-infection",
   "metadata": {},
   "outputs": [
    {
     "data": {
      "text/plain": [
       "True"
      ]
     },
     "execution_count": 27,
     "metadata": {},
     "output_type": "execute_result"
    }
   ],
   "source": [
    "'AT' in dna"
   ]
  },
  {
   "cell_type": "markdown",
   "id": "signed-nature",
   "metadata": {},
   "source": [
    "### Count the number of nucleotides in a sequence"
   ]
  },
  {
   "cell_type": "code",
   "execution_count": 28,
   "id": "liked-enterprise",
   "metadata": {},
   "outputs": [],
   "source": [
    "dna=\"AGTAGGATCGATTATTATATTAA\""
   ]
  },
  {
   "cell_type": "code",
   "execution_count": 29,
   "id": "imperial-million",
   "metadata": {},
   "outputs": [
    {
     "data": {
      "text/plain": [
       "9"
      ]
     },
     "execution_count": 29,
     "metadata": {},
     "output_type": "execute_result"
    }
   ],
   "source": [
    "dna.count(\"A\")"
   ]
  },
  {
   "cell_type": "code",
   "execution_count": 30,
   "id": "violent-phone",
   "metadata": {},
   "outputs": [],
   "source": [
    "a_count=dna.count(\"A\")\n",
    "c_count=dna.count(\"C\")\n",
    "g_count=dna.count('G')\n",
    "t_count=dna.count('T')\n"
   ]
  },
  {
   "cell_type": "code",
   "execution_count": 31,
   "id": "competitive-broadcast",
   "metadata": {},
   "outputs": [
    {
     "name": "stdout",
     "output_type": "stream",
     "text": [
      "9\n"
     ]
    }
   ],
   "source": [
    "print(a_count)"
   ]
  },
  {
   "cell_type": "code",
   "execution_count": 33,
   "id": "impressive-lyric",
   "metadata": {},
   "outputs": [
    {
     "name": "stdout",
     "output_type": "stream",
     "text": [
      "Number of As = 9\n"
     ]
    }
   ],
   "source": [
    "print(\"Number of As =\",a_count)"
   ]
  },
  {
   "cell_type": "code",
   "execution_count": 34,
   "id": "eleven-colon",
   "metadata": {},
   "outputs": [
    {
     "name": "stdout",
     "output_type": "stream",
     "text": [
      "21.73913043478261\n"
     ]
    }
   ],
   "source": [
    "gc=g_count+c_count\n",
    "length=len(dna)\n",
    "gc_percent=gc/length * 100\n",
    "print(gc_percent)\n"
   ]
  },
  {
   "cell_type": "markdown",
   "id": "organized-fiber",
   "metadata": {},
   "source": [
    "### Combine strings/sequences"
   ]
  },
  {
   "cell_type": "code",
   "execution_count": 35,
   "id": "viral-trademark",
   "metadata": {},
   "outputs": [
    {
     "name": "stdout",
     "output_type": "stream",
     "text": [
      "ATGAGCCG\n"
     ]
    }
   ],
   "source": [
    "dna1='ATGA'\n",
    "dna2='GCCG'\n",
    "\n",
    "combined_sequence=dna1+dna2\n",
    "\n",
    "print(combined_sequence)"
   ]
  },
  {
   "cell_type": "code",
   "execution_count": 37,
   "id": "tutorial-collector",
   "metadata": {},
   "outputs": [
    {
     "name": "stdout",
     "output_type": "stream",
     "text": [
      "PythonLanguage\n"
     ]
    }
   ],
   "source": [
    "firstname='Python'\n",
    "secondname='Language'\n",
    "fullname=firstname + secondname\n",
    "print(fullname)"
   ]
  },
  {
   "cell_type": "code",
   "execution_count": 38,
   "id": "future-fireplace",
   "metadata": {},
   "outputs": [
    {
     "name": "stdout",
     "output_type": "stream",
     "text": [
      "Python Language\n"
     ]
    }
   ],
   "source": [
    "fullname=firstname+' '+secondname\n",
    "print(fullname)"
   ]
  },
  {
   "cell_type": "code",
   "execution_count": null,
   "id": "fitted-association",
   "metadata": {},
   "outputs": [],
   "source": [
    "fullname=\"%s %s\"%(firstname,secondname)\n",
    "print(fullname)"
   ]
  },
  {
   "cell_type": "code",
   "execution_count": 43,
   "id": "71b2b7df",
   "metadata": {},
   "outputs": [
    {
     "name": "stdout",
     "output_type": "stream",
     "text": [
      "Python  Language\n"
     ]
    }
   ],
   "source": [
    "print('{} '' {}'.format(firstname,secondname))"
   ]
  },
  {
   "cell_type": "markdown",
   "id": "cloudy-belize",
   "metadata": {},
   "source": [
    "### More string manipulations ###"
   ]
  },
  {
   "cell_type": "markdown",
   "id": "atlantic-script",
   "metadata": {},
   "source": [
    "| Function|Action \n",
    "| :--- |:---     \n",
    "|string.find('a')|\t  Find the first position where 'a' occurs in the string\n",
    "|string.count('s')|\t  Counts how many 's' characters are in the string\n",
    "|string.lower()|\t  Copy of string with all characters converted to upper case\n",
    "|string.upper() |\t  Copy of string with all characters converted to upper case\n",
    "|string.isdigit()|\t  Checks if string contains only digits. Returns True or False\n",
    "|string.isalpha()|\t  Checks if string contains only alphabets. Returns True or False\n",
    "|string.alnum()\t|  Checks if the string contains alphanumeric characters only. Returns True or False\n",
    "|string.strip()\t|   Strips a character from both sides of the string\n",
    "|string.split()\t|   Splits the string into a list of substrings\n",
    "|string.replace('s','t')|\t   Replaces all 's' in the string with 't'\n",
    "|string.join(list)|\t   Joins all members of list into a single striing object"
   ]
  },
  {
   "cell_type": "markdown",
   "id": "polished-decade",
   "metadata": {},
   "source": [
    "### Exercise ###"
   ]
  },
  {
   "cell_type": "markdown",
   "id": "paperback-music",
   "metadata": {},
   "source": [
    "*Consider the dna sequence, AGTTAGCTAGGAG*\n",
    "* How many nucleotides are present?\n",
    "* Calculate the percentage GC in the sequence.\n",
    "* How many purines are present?\n",
    "* How many pyrimidines are present?\n",
    "* Calculate the percentage of purines in the sequence"
   ]
  },
  {
   "cell_type": "code",
   "execution_count": 44,
   "id": "629a83c1",
   "metadata": {},
   "outputs": [],
   "source": [
    "dna_sequence = 'AGTTAGCTAGGAG'\n"
   ]
  },
  {
   "cell_type": "code",
   "execution_count": 49,
   "id": "cc15f3f9",
   "metadata": {},
   "outputs": [
    {
     "name": "stdout",
     "output_type": "stream",
     "text": [
      "13\n"
     ]
    }
   ],
   "source": [
    "#Number of nucleotides\n",
    "base_len = len(dna_sequence)\n",
    "print(base_len)"
   ]
  },
  {
   "cell_type": "code",
   "execution_count": 50,
   "id": "7afc0fd1",
   "metadata": {},
   "outputs": [],
   "source": [
    "#Individal nucleotide count\n",
    "g_count = dna_sequence.count('G')\n",
    "a_count = dna_sequence.count('A')\n",
    "t_count = dna_sequence.count('T')\n",
    "c_count = dna_sequence.count('C')"
   ]
  },
  {
   "cell_type": "code",
   "execution_count": 51,
   "id": "438a7a6f",
   "metadata": {},
   "outputs": [],
   "source": [
    "gc_count = g_count + c_count\n",
    "at_count = a_count + t_count"
   ]
  },
  {
   "cell_type": "code",
   "execution_count": 52,
   "id": "ea400f61",
   "metadata": {},
   "outputs": [
    {
     "name": "stdout",
     "output_type": "stream",
     "text": [
      "The percentage of GC nucleotide is 46.15384615384615\n"
     ]
    }
   ],
   "source": [
    "#Percentage of GC in the sequence\n",
    "gc_percent = (gc_count/base_len)*100\n",
    "print('The percentage of GC nucleotide is {}'.format(gc_percent))"
   ]
  },
  {
   "cell_type": "code",
   "execution_count": 57,
   "id": "e071f24f",
   "metadata": {},
   "outputs": [
    {
     "name": "stdout",
     "output_type": "stream",
     "text": [
      "9\n"
     ]
    }
   ],
   "source": [
    "#Number of Purine(A + G)\n",
    "num_pur = g_count + a_count\n",
    "print(num_pur)"
   ]
  },
  {
   "cell_type": "code",
   "execution_count": 58,
   "id": "5b7eb597",
   "metadata": {},
   "outputs": [
    {
     "name": "stdout",
     "output_type": "stream",
     "text": [
      "4\n"
     ]
    }
   ],
   "source": [
    "#Number of Pyrimidines(C + T)\n",
    "num_pyr = c_count + t_count\n",
    "print(num_pyr)"
   ]
  },
  {
   "cell_type": "code",
   "execution_count": 59,
   "id": "cc48852d",
   "metadata": {},
   "outputs": [
    {
     "name": "stdout",
     "output_type": "stream",
     "text": [
      "69.23076923076923\n"
     ]
    }
   ],
   "source": [
    "#percentage of purines\n",
    "pur_percent = (num_pur/base_len) * 100\n",
    "print(pur_percent)"
   ]
  },
  {
   "cell_type": "code",
   "execution_count": null,
   "id": "40b4b074",
   "metadata": {},
   "outputs": [],
   "source": []
  }
 ],
 "metadata": {
  "kernelspec": {
   "display_name": "Python 3 (ipykernel)",
   "language": "python",
   "name": "python3"
  },
  "language_info": {
   "codemirror_mode": {
    "name": "ipython",
    "version": 3
   },
   "file_extension": ".py",
   "mimetype": "text/x-python",
   "name": "python",
   "nbconvert_exporter": "python",
   "pygments_lexer": "ipython3",
   "version": "3.9.7"
  }
 },
 "nbformat": 4,
 "nbformat_minor": 5
}
